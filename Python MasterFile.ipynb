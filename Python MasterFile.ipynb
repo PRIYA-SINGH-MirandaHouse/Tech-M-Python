{
 "cells": [
  {
   "cell_type": "code",
   "execution_count": 1,
   "id": "9f161eb4",
   "metadata": {},
   "outputs": [
    {
     "name": "stdout",
     "output_type": "stream",
     "text": [
      "Hi, Priya!\n"
     ]
    }
   ],
   "source": [
    "print(\"Hi, Priya!\")\n"
   ]
  },
  {
   "cell_type": "code",
   "execution_count": 2,
   "id": "83b5f6b7",
   "metadata": {},
   "outputs": [
    {
     "name": "stdout",
     "output_type": "stream",
     "text": [
      "Enter your name: Priti\n",
      "Hi, Priti!\n"
     ]
    }
   ],
   "source": [
    "name = input(\"Enter your name: \")\n",
    "print(\"Hi, \" + name + \"!\")\n"
   ]
  },
  {
   "cell_type": "code",
   "execution_count": 3,
   "id": "8874891d",
   "metadata": {},
   "outputs": [
    {
     "name": "stdout",
     "output_type": "stream",
     "text": [
      "x is greater than 5\n"
     ]
    }
   ],
   "source": [
    "x = 10\n",
    "if x > 5:\n",
    "    print(\"x is greater than 5\")\n",
    "else:\n",
    "    print(\"x is less than or equal to 5\")\n",
    "    \n",
    "#IF STATEMENT\n",
    "    "
   ]
  },
  {
   "cell_type": "code",
   "execution_count": 4,
   "id": "0db89a24",
   "metadata": {},
   "outputs": [
    {
     "name": "stdout",
     "output_type": "stream",
     "text": [
      "1\n",
      "2\n",
      "3\n",
      "4\n",
      "5\n"
     ]
    }
   ],
   "source": [
    "i = 1\n",
    "while i <= 5:\n",
    "    print(i)\n",
    "    i = i + 1\n",
    "#WHILE LOOP"
   ]
  },
  {
   "cell_type": "code",
   "execution_count": 6,
   "id": "e3a3d384",
   "metadata": {},
   "outputs": [
    {
     "name": "stdout",
     "output_type": "stream",
     "text": [
      "3.14\n",
      "7.8500000000000005\n"
     ]
    }
   ],
   "source": [
    "# FLOAT\n",
    "# Declaring a float variable\n",
    "x = 3.14\n",
    "\n",
    "# Printing the value of x\n",
    "print(x)\n",
    "\n",
    "# Performing arithmetic operations on floats\n",
    "y = 2.5\n",
    "z = x * y\n",
    "print(z)\n"
   ]
  },
  {
   "cell_type": "code",
   "execution_count": 5,
   "id": "63f0efda",
   "metadata": {},
   "outputs": [
    {
     "name": "stdout",
     "output_type": "stream",
     "text": [
      "5\n",
      "15\n"
     ]
    }
   ],
   "source": [
    "#INTEGER\n",
    "# Declaring an integer variable\n",
    "x = 5\n",
    "\n",
    "# Printing the value of x\n",
    "print(x)\n",
    "\n",
    "# Performing arithmetic operations on integers\n",
    "y = 10\n",
    "z = x + y\n",
    "print(z)\n"
   ]
  },
  {
   "cell_type": "code",
   "execution_count": 19,
   "id": "acd4bf47",
   "metadata": {},
   "outputs": [
    {
     "name": "stdout",
     "output_type": "stream",
     "text": [
      "Hello, World!\n",
      "H\n",
      "W\n",
      "My name is Priya\n"
     ]
    }
   ],
   "source": [
    "# Declaring a string variable\n",
    "x = \"Hello, World!\"\n",
    "\n",
    "# Printing the value of x\n",
    "print(x)\n",
    "\n",
    "# Accessing characters in a string\n",
    "print(x[0])  # Prints 'H'\n",
    "print(x[7])  # Prints 'W'\n",
    "\n",
    "# Concatenating strings\n",
    "y = \"My name is\"\n",
    "z = y + \" Priya\"\n",
    "print(z)  \n"
   ]
  },
  {
   "cell_type": "code",
   "execution_count": 8,
   "id": "d26eb06e",
   "metadata": {},
   "outputs": [
    {
     "name": "stdout",
     "output_type": "stream",
     "text": [
      "True\n",
      "False\n",
      "True\n"
     ]
    }
   ],
   "source": [
    "# Declaring a boolean variable\n",
    "x = True\n",
    "\n",
    "# Printing the value of x\n",
    "print(x)\n",
    "\n",
    "# Using boolean operators\n",
    "y = False\n",
    "print(x and y)  # Prints 'False'\n",
    "print(x or y)  # Prints 'True'\n"
   ]
  },
  {
   "cell_type": "code",
   "execution_count": 9,
   "id": "a198eb13",
   "metadata": {},
   "outputs": [
    {
     "name": "stdout",
     "output_type": "stream",
     "text": [
      "[1, 2, 3, 4, 5]\n",
      "1\n",
      "4\n",
      "[1, 2, 10, 4, 5]\n",
      "[1, 2, 10, 4, 5, 6]\n"
     ]
    }
   ],
   "source": [
    "# Declaring a list variable\n",
    "x = [1, 2, 3, 4, 5]\n",
    "\n",
    "# Printing the value of x\n",
    "print(x)\n",
    "\n",
    "# Accessing elements in a list\n",
    "print(x[0])  # Prints '1'\n",
    "print(x[3])  # Prints '4'\n",
    "\n",
    "# Modifying elements in a list\n",
    "x[2] = 10\n",
    "print(x)  # Prints '[1, 2, 10, 4, 5]'\n",
    "\n",
    "# Appending elements to a list\n",
    "x.append(6)\n",
    "print(x)  # Prints '[1, 2, 10, 4, 5, 6]'\n",
    "\n"
   ]
  },
  {
   "cell_type": "code",
   "execution_count": 10,
   "id": "fbddc986",
   "metadata": {},
   "outputs": [
    {
     "name": "stdout",
     "output_type": "stream",
     "text": [
      "[1, 3, 4, 5, 6]\n"
     ]
    }
   ],
   "source": [
    "#Mutability refers to the ability of an object to be changed or modified after it has been created. \n",
    "#In Python, mutable objects can have their values modified after they are created, while immutable objects cannot.\n",
    "# Creating a list of integers\n",
    "my_list = [1, 2, 3, 4, 5]\n",
    "\n",
    "# Modifying the list in place\n",
    "my_list.append(6)\n",
    "my_list.remove(2)\n",
    "\n",
    "# Printing the modified list\n",
    "print(my_list)   # Output: [1, 3, 4, 5, 6]\n",
    "\n"
   ]
  },
  {
   "cell_type": "code",
   "execution_count": 11,
   "id": "97e564f7",
   "metadata": {},
   "outputs": [
    {
     "name": "stdout",
     "output_type": "stream",
     "text": [
      "{'apple': 5, 'banana': 2}\n"
     ]
    }
   ],
   "source": [
    "# Creating a dictionary of key-value pairs\n",
    "my_dict = {'apple': 3, 'banana': 2, 'orange': 4}\n",
    "\n",
    "# Modifying the dictionary in place\n",
    "my_dict['apple'] = 5\n",
    "my_dict.pop('orange')\n",
    "\n",
    "# Printing the modified dictionary\n",
    "print(my_dict)   # Output: {'apple': 5, 'banana': 2}\n"
   ]
  },
  {
   "cell_type": "code",
   "execution_count": 12,
   "id": "6d1c03ff",
   "metadata": {},
   "outputs": [
    {
     "name": "stdout",
     "output_type": "stream",
     "text": [
      "{1, 3, 4, 5, 6}\n"
     ]
    }
   ],
   "source": [
    "# Creating a set of unique elements\n",
    "my_set = {1, 2, 3, 4, 5}\n",
    "\n",
    "# Modifying the set in place\n",
    "my_set.add(6)\n",
    "my_set.remove(2)\n",
    "\n",
    "# Printing the modified set\n",
    "print(my_set)   # Output: {1, 3, 4, 5, 6}\n"
   ]
  },
  {
   "cell_type": "code",
   "execution_count": 13,
   "id": "c117c2ca",
   "metadata": {},
   "outputs": [
    {
     "name": "stdout",
     "output_type": "stream",
     "text": [
      "7\n"
     ]
    }
   ],
   "source": []
  },
  {
   "cell_type": "code",
   "execution_count": 17,
   "id": "2d49fbf2",
   "metadata": {},
   "outputs": [
    {
     "ename": "TypeError",
     "evalue": "'str' object does not support item assignment",
     "output_type": "error",
     "traceback": [
      "\u001b[1;31m---------------------------------------------------------------------------\u001b[0m",
      "\u001b[1;31mTypeError\u001b[0m                                 Traceback (most recent call last)",
      "\u001b[1;32m<ipython-input-17-8cb5a4a6cd54>\u001b[0m in \u001b[0;36m<module>\u001b[1;34m\u001b[0m\n\u001b[0;32m      4\u001b[0m \u001b[1;31m# Trying to modify the string (which will fail)\u001b[0m\u001b[1;33m\u001b[0m\u001b[1;33m\u001b[0m\u001b[1;33m\u001b[0m\u001b[0m\n\u001b[0;32m      5\u001b[0m \u001b[0mmy_str\u001b[0m \u001b[1;33m+=\u001b[0m \u001b[1;34m'!'\u001b[0m\u001b[1;33m\u001b[0m\u001b[1;33m\u001b[0m\u001b[0m\n\u001b[1;32m----> 6\u001b[1;33m \u001b[0mmy_str\u001b[0m\u001b[1;33m[\u001b[0m\u001b[1;36m0\u001b[0m\u001b[1;33m]\u001b[0m \u001b[1;33m=\u001b[0m \u001b[1;34m'H'\u001b[0m\u001b[1;33m\u001b[0m\u001b[1;33m\u001b[0m\u001b[0m\n\u001b[0m\u001b[0;32m      7\u001b[0m \u001b[1;33m\u001b[0m\u001b[0m\n\u001b[0;32m      8\u001b[0m \u001b[1;33m\u001b[0m\u001b[0m\n",
      "\u001b[1;31mTypeError\u001b[0m: 'str' object does not support item assignment"
     ]
    }
   ],
   "source": [
    "# Creating a string variable\n",
    "my_str = 'hello world'\n",
    "\n",
    "# Trying to modify the string (which will fail)\n",
    "my_str += '!'\n",
    "my_str[0] = 'H'\n",
    "\n",
    "\n",
    "# Printing the original string value\n",
    "print(my_str)   # Output: 'hello world'\n"
   ]
  },
  {
   "cell_type": "code",
   "execution_count": 16,
   "id": "2015bb37",
   "metadata": {},
   "outputs": [
    {
     "ename": "TypeError",
     "evalue": "'tuple' object does not support item assignment",
     "output_type": "error",
     "traceback": [
      "\u001b[1;31m---------------------------------------------------------------------------\u001b[0m",
      "\u001b[1;31mTypeError\u001b[0m                                 Traceback (most recent call last)",
      "\u001b[1;32m<ipython-input-16-dcc96e244df3>\u001b[0m in \u001b[0;36m<module>\u001b[1;34m\u001b[0m\n\u001b[0;32m      4\u001b[0m \u001b[1;31m# Trying to modify the tuple (which will fail)\u001b[0m\u001b[1;33m\u001b[0m\u001b[1;33m\u001b[0m\u001b[1;33m\u001b[0m\u001b[0m\n\u001b[0;32m      5\u001b[0m \u001b[0mmy_tuple\u001b[0m \u001b[1;33m+=\u001b[0m \u001b[1;33m(\u001b[0m\u001b[1;36m6\u001b[0m\u001b[1;33m,\u001b[0m\u001b[1;33m)\u001b[0m\u001b[1;33m\u001b[0m\u001b[1;33m\u001b[0m\u001b[0m\n\u001b[1;32m----> 6\u001b[1;33m \u001b[0mmy_tuple\u001b[0m\u001b[1;33m[\u001b[0m\u001b[1;36m0\u001b[0m\u001b[1;33m]\u001b[0m \u001b[1;33m=\u001b[0m \u001b[1;36m0\u001b[0m\u001b[1;33m\u001b[0m\u001b[1;33m\u001b[0m\u001b[0m\n\u001b[0m\u001b[0;32m      7\u001b[0m \u001b[1;33m\u001b[0m\u001b[0m\n\u001b[0;32m      8\u001b[0m \u001b[1;31m# Printing the original tuple value\u001b[0m\u001b[1;33m\u001b[0m\u001b[1;33m\u001b[0m\u001b[1;33m\u001b[0m\u001b[0m\n",
      "\u001b[1;31mTypeError\u001b[0m: 'tuple' object does not support item assignment"
     ]
    }
   ],
   "source": [
    "# Creating a tuple of elements\n",
    "my_tuple = (1, 2, 3, 4, 5)\n",
    "\n",
    "# Trying to modify the tuple (which will fail)\n",
    "my_tuple += (6,)\n",
    "my_tuple[0] = 0\n",
    "\n",
    "# Printing the original tuple value\n",
    "print(my_tuple)   # Output: (1, 2, 3, 4, 5)\n"
   ]
  },
  {
   "cell_type": "code",
   "execution_count": 20,
   "id": "7ebdc788",
   "metadata": {},
   "outputs": [
    {
     "name": "stdout",
     "output_type": "stream",
     "text": [
      "5\n"
     ]
    }
   ],
   "source": [
    "#List\n",
    "#A list is a built-in data structure that stores a collection of values in a specific order.\n",
    "#LEN\n",
    "my_list = [1, 2, 3, 4, 5]\n",
    "print(len(my_list))  # Output: 5\n"
   ]
  },
  {
   "cell_type": "code",
   "execution_count": 21,
   "id": "11cc71b7",
   "metadata": {},
   "outputs": [
    {
     "name": "stdout",
     "output_type": "stream",
     "text": [
      "[1, 2, 3, 4, 5, 6]\n"
     ]
    }
   ],
   "source": [
    "my_list = [1, 2, 3, 4, 5]\n",
    "my_list.append(6)\n",
    "print(my_list)  # Output: [1, 2, 3, 4, 5, 6]\n"
   ]
  },
  {
   "cell_type": "code",
   "execution_count": 22,
   "id": "6795681c",
   "metadata": {},
   "outputs": [
    {
     "name": "stdout",
     "output_type": "stream",
     "text": [
      "[1, 2, 'new', 3, 4, 5]\n"
     ]
    }
   ],
   "source": [
    "my_list = [1, 2, 3, 4, 5]\n",
    "my_list.insert(2, \"new\")\n",
    "print(my_list)  # Output: [1, 2, 'new', 3, 4, 5]\n"
   ]
  },
  {
   "cell_type": "code",
   "execution_count": 23,
   "id": "61931e30",
   "metadata": {},
   "outputs": [
    {
     "name": "stdout",
     "output_type": "stream",
     "text": [
      "[1, 2, 4, 5]\n"
     ]
    }
   ],
   "source": [
    "my_list = [1, 2, 3, 4, 5]\n",
    "my_list.remove(3)\n",
    "print(my_list)  # Output: [1, 2, 4, 5]\n"
   ]
  },
  {
   "cell_type": "code",
   "execution_count": 24,
   "id": "d42dc602",
   "metadata": {},
   "outputs": [
    {
     "name": "stdout",
     "output_type": "stream",
     "text": [
      "3\n",
      "[1, 2, 4, 5]\n"
     ]
    }
   ],
   "source": [
    "my_list = [1, 2, 3, 4, 5]\n",
    "popped_element = my_list.pop(2)\n",
    "print(popped_element)  # Output: 3\n",
    "print(my_list)  # Output: [1, 2, 4, 5]\n"
   ]
  },
  {
   "cell_type": "code",
   "execution_count": 25,
   "id": "888b7744",
   "metadata": {},
   "outputs": [
    {
     "name": "stdout",
     "output_type": "stream",
     "text": [
      "2\n"
     ]
    }
   ],
   "source": [
    "my_list = [1, 2, 3, 4, 5]\n",
    "print(my_list.index(3))  # Output: 2\n"
   ]
  },
  {
   "cell_type": "code",
   "execution_count": 26,
   "id": "564dcc0c",
   "metadata": {},
   "outputs": [
    {
     "name": "stdout",
     "output_type": "stream",
     "text": [
      "2\n"
     ]
    }
   ],
   "source": [
    "my_list = [1, 2, 3, 4, 5, 2]\n",
    "print(my_list.count(2))  # Output: 2\n"
   ]
  },
  {
   "cell_type": "code",
   "execution_count": 27,
   "id": "c59ec6bc",
   "metadata": {},
   "outputs": [
    {
     "name": "stdout",
     "output_type": "stream",
     "text": [
      "[1, 1, 2, 3, 3, 4, 5, 5, 5, 6, 9]\n"
     ]
    }
   ],
   "source": [
    "my_list = [3, 1, 4, 1, 5, 9, 2, 6, 5, 3, 5]\n",
    "my_list.sort()\n",
    "print(my_list)  # Output: [1, 1, 2, 3, 3, 4, 5, 5, 5, 6, 9]\n"
   ]
  },
  {
   "cell_type": "code",
   "execution_count": 28,
   "id": "f36ed9a7",
   "metadata": {},
   "outputs": [
    {
     "name": "stdout",
     "output_type": "stream",
     "text": [
      "[5, 4, 3, 2, 1]\n"
     ]
    }
   ],
   "source": [
    "my_list = [1, 2, 3, 4, 5]\n",
    "my_list.reverse()\n",
    "print(my_list)  # Output: [5, 4, 3, 2, 1]\n"
   ]
  },
  {
   "cell_type": "code",
   "execution_count": 29,
   "id": "778ca29c",
   "metadata": {},
   "outputs": [
    {
     "name": "stdout",
     "output_type": "stream",
     "text": [
      "[1, 2, 3, 4, 5]\n"
     ]
    }
   ],
   "source": [
    "my_list = [1, 2, 3, 4, 5]\n",
    "new_list = my_list.copy()\n",
    "print(new_list)  # Output: [1, 2, 3, 4, 5]\n"
   ]
  },
  {
   "cell_type": "code",
   "execution_count": 41,
   "id": "8b462cc6",
   "metadata": {},
   "outputs": [
    {
     "name": "stdout",
     "output_type": "stream",
     "text": [
      "Student 1 Total Marks: 398, Percentage: 79.60000000000001%\n",
      "Student 2 Total Marks: 422, Percentage: 84.39999999999999%\n",
      "Student 3 Total Marks: 420, Percentage: 84.0%\n",
      "Student 4 Total Marks: 412, Percentage: 82.39999999999999%\n",
      "Student 5 Total Marks: 413, Percentage: 82.6%\n"
     ]
    }
   ],
   "source": [
    "# Create a list of lists to store the marks of each student for each subject\n",
    "marks = [[85, 90, 80, 95, 92],   # Subject 1 marks for all students\n",
    "         [70, 80, 75, 65, 80],   # Subject 2 marks for all students\n",
    "         [95, 85, 90, 92, 88],   # Subject 3 marks for all students\n",
    "         [60, 75, 80, 70, 68],   # Subject 4 marks for all students\n",
    "         [88, 92, 95, 90, 85]]   # Subject 5 marks for all students\n",
    "\n",
    "# Create empty lists to store the total marks and percentage of each student\n",
    "total_marks = []\n",
    "percentage = []\n",
    "\n",
    "# Iterate over each student's marks and calculate the total and percentage\n",
    "for i in range(len(marks[0])):\n",
    "    student_marks = [marks[j][i] for j in range(len(marks))]  # Get marks of the i-th student for all subjects\n",
    "    total = sum(student_marks)    # Calculate total marks\n",
    "    total_marks.append(total)     # Add total marks to the total_marks list\n",
    "    percent = (total / 500) * 100 # Calculate percentage\n",
    "    percentage.append(percent)    # Add percentage to the percentage list\n",
    "\n",
    "# Print the total marks and percentage of each student\n",
    "for i in range(len(marks[0])):\n",
    "    print(f\"Student {i+1} Total Marks: {total_marks[i]}, Percentage: {percentage[i]}%\")\n"
   ]
  },
  {
   "cell_type": "code",
   "execution_count": 31,
   "id": "705885fe",
   "metadata": {},
   "outputs": [],
   "source": [
    "#Tuples\n",
    "#In Python, a tuple is a built-in data structure that is similar to a list\n",
    "#But with one key difference: tuples are immutable, meaning that once a tuple is created, its values cannot be changed.\n",
    "#Creating a tuple\n",
    "# empty tuple\n",
    "my_tuple = ()\n",
    "\n",
    "# tuple with values\n",
    "my_tuple = (1, 2, 3)\n"
   ]
  },
  {
   "cell_type": "code",
   "execution_count": 32,
   "id": "70048ec9",
   "metadata": {},
   "outputs": [
    {
     "name": "stdout",
     "output_type": "stream",
     "text": [
      "1\n",
      "(2, 3)\n"
     ]
    }
   ],
   "source": [
    "#Accessing values in a tuple\n",
    "my_tuple = (1, 2, 3)\n",
    "\n",
    "# accessing a single value\n",
    "print(my_tuple[0])\n",
    "\n",
    "# accessing multiple values using slicing\n",
    "print(my_tuple[1:3])\n"
   ]
  },
  {
   "cell_type": "code",
   "execution_count": 43,
   "id": "77cf9ea0",
   "metadata": {},
   "outputs": [
    {
     "name": "stdout",
     "output_type": "stream",
     "text": [
      "(1, 2, 3, 4, 5, 6, 2, 1)\n"
     ]
    }
   ],
   "source": [
    "#Tuple concatenation\n",
    "tuple1 = (1, 2, 3)\n",
    "tuple2 = (4, 5, 6)\n",
    "\n",
    "tuple3 = tuple1 + tuple2+(2,1)\n",
    "print(tuple3)\n",
    "\n"
   ]
  },
  {
   "cell_type": "code",
   "execution_count": 34,
   "id": "37a29403",
   "metadata": {},
   "outputs": [
    {
     "name": "stdout",
     "output_type": "stream",
     "text": [
      "(1, 2, 3, 1, 2, 3, 1, 2, 3)\n"
     ]
    }
   ],
   "source": [
    "#Tuple repetition\n",
    "my_tuple = (1, 2, 3)\n",
    "\n",
    "# repeat the tuple 3 times\n",
    "new_tuple = my_tuple * 3\n",
    "print(new_tuple)\n"
   ]
  },
  {
   "cell_type": "code",
   "execution_count": 35,
   "id": "110d5dc7",
   "metadata": {},
   "outputs": [
    {
     "name": "stdout",
     "output_type": "stream",
     "text": [
      "3\n"
     ]
    }
   ],
   "source": [
    "#Tuple length\n",
    "my_tuple = (1, 2, 3)\n",
    "\n",
    "# get the length of the tuple\n",
    "print(len(my_tuple))\n"
   ]
  },
  {
   "cell_type": "code",
   "execution_count": 36,
   "id": "9d2c0090",
   "metadata": {},
   "outputs": [
    {
     "name": "stdout",
     "output_type": "stream",
     "text": [
      "True\n"
     ]
    }
   ],
   "source": [
    "#Tuple membership\n",
    "my_tuple = (1, 2, 3)\n",
    "\n",
    "# check if a value is in the tuple\n",
    "print(2 in my_tuple)\n"
   ]
  },
  {
   "cell_type": "code",
   "execution_count": 37,
   "id": "2517a1ba",
   "metadata": {},
   "outputs": [
    {
     "name": "stdout",
     "output_type": "stream",
     "text": [
      "1\n",
      "2\n",
      "3\n"
     ]
    }
   ],
   "source": [
    "#Tuple iteration\n",
    "my_tuple = (1, 2, 3)\n",
    "\n",
    "# iterate over the values in the tuple\n",
    "for value in my_tuple:\n",
    "    print(value)\n"
   ]
  },
  {
   "cell_type": "code",
   "execution_count": 38,
   "id": "aefa366b",
   "metadata": {},
   "outputs": [
    {
     "name": "stdout",
     "output_type": "stream",
     "text": [
      "1\n",
      "2\n",
      "3\n"
     ]
    }
   ],
   "source": [
    "#Tuple unpacking\n",
    "my_tuple = (1, 2, 3)\n",
    "\n",
    "# unpack the tuple into separate variables\n",
    "a, b, c = my_tuple\n",
    "\n",
    "print(a)\n",
    "print(b)\n",
    "print(c)\n"
   ]
  },
  {
   "cell_type": "code",
   "execution_count": 39,
   "id": "49ed7966",
   "metadata": {},
   "outputs": [
    {
     "name": "stdout",
     "output_type": "stream",
     "text": [
      "1\n",
      "1\n"
     ]
    }
   ],
   "source": [
    "#Tuple methods\n",
    "my_tuple = (1, 2, 3)\n",
    "\n",
    "# count the number of occurrences of a value\n",
    "print(my_tuple.count(2))\n",
    "\n",
    "# get the index of the first occurrence of a value\n",
    "print(my_tuple.index(2))\n"
   ]
  },
  {
   "cell_type": "code",
   "execution_count": 44,
   "id": "9c168c14",
   "metadata": {},
   "outputs": [
    {
     "name": "stdout",
     "output_type": "stream",
     "text": [
      "(1, 2, 10, 3, 4, 5)\n"
     ]
    }
   ],
   "source": [
    "# Define a tuple\n",
    "my_tuple = (1, 2, 3, 4, 5)\n",
    "\n",
    "# Convert the tuple to a list\n",
    "my_list = list(my_tuple)\n",
    "\n",
    "# Insert the item at index 2\n",
    "my_list.insert(2, 10)\n",
    "\n",
    "# Convert the list back to a tuple\n",
    "new_tuple = tuple(my_list)\n",
    "\n",
    "# Print the new tuple\n",
    "print(new_tuple)   # Output: (1, 2, 10, 3, 4, 5)\n"
   ]
  },
  {
   "cell_type": "code",
   "execution_count": 45,
   "id": "c6f0156c",
   "metadata": {},
   "outputs": [
    {
     "name": "stdout",
     "output_type": "stream",
     "text": [
      "(1, 2, 10, 3, 4, 5)\n"
     ]
    }
   ],
   "source": [
    "# Define a tuple\n",
    "my_tuple = (1, 2, 3, 4, 5)\n",
    "\n",
    "# Create a new tuple by concatenating slices of the original tuple\n",
    "new_tuple = my_tuple[:2] + (10,) + my_tuple[2:]\n",
    "\n",
    "# Print the new tuple\n",
    "print(new_tuple)   # Output: (1, 2, 10, 3, 4, 5)\n"
   ]
  },
  {
   "cell_type": "code",
   "execution_count": 46,
   "id": "f8e33af4",
   "metadata": {},
   "outputs": [
    {
     "name": "stdout",
     "output_type": "stream",
     "text": [
      "7\n"
     ]
    }
   ],
   "source": [
    "# Define a tuple\n",
    "my_tuple = (1, 2, 3, 4, 5, 6, 7, 8, 9, 10)\n",
    "\n",
    "# Get the 4th element from the end of the tuple using negative indexing\n",
    "fourth_from_last = my_tuple[-4]\n",
    "\n",
    "# Print the result\n",
    "print(fourth_from_last)   # Output: 7\n"
   ]
  },
  {
   "cell_type": "code",
   "execution_count": 47,
   "id": "63c31d26",
   "metadata": {},
   "outputs": [
    {
     "name": "stdout",
     "output_type": "stream",
     "text": [
      "(1, 2, 4, 5)\n"
     ]
    }
   ],
   "source": [
    "#Deleting an element from tuple\n",
    "#Tuples are immutable\n",
    "# Define a tuple\n",
    "my_tuple = (1, 2, 3, 4, 5)\n",
    "\n",
    "# Create a new tuple that excludes the item to be removed\n",
    "new_tuple = tuple(item for item in my_tuple if item != 3)\n",
    "\n",
    "# Print the new tuple\n",
    "print(new_tuple)   # Output: (1, 2, 4, 5)\n"
   ]
  },
  {
   "cell_type": "code",
   "execution_count": 1,
   "id": "3188592e",
   "metadata": {},
   "outputs": [
    {
     "name": "stdout",
     "output_type": "stream",
     "text": [
      "x is positive\n",
      "x is positive\n"
     ]
    }
   ],
   "source": [
    "# Define a variable\n",
    "x = 5\n",
    "\n",
    "# Using if-else statement\n",
    "if x < 0:\n",
    "    print(\"x is negative\")\n",
    "else:\n",
    "    print(\"x is positive\")\n",
    "\n",
    "# Using if-elif-else statement\n",
    "if x < 0:\n",
    "    print(\"x is negative\")\n",
    "elif x == 0:\n",
    "    print(\"x is zero\")\n",
    "else:\n",
    "    print(\"x is positive\")\n"
   ]
  },
  {
   "cell_type": "code",
   "execution_count": 2,
   "id": "342dd1fc",
   "metadata": {},
   "outputs": [
    {
     "name": "stdout",
     "output_type": "stream",
     "text": [
      "1\n",
      "2\n",
      "3\n",
      "4\n",
      "5\n"
     ]
    }
   ],
   "source": [
    "# Loop through a list of numbers\n",
    "numbers = [1, 2, 3, 4, 5]\n",
    "for num in numbers:\n",
    "    print(num)\n"
   ]
  },
  {
   "cell_type": "code",
   "execution_count": 3,
   "id": "b4f8bb05",
   "metadata": {},
   "outputs": [
    {
     "name": "stdout",
     "output_type": "stream",
     "text": [
      "10\n",
      "9\n",
      "8\n",
      "7\n",
      "6\n",
      "5\n",
      "4\n",
      "3\n",
      "2\n",
      "1\n"
     ]
    }
   ],
   "source": [
    "# Count down from 10 to 1\n",
    "count = 10\n",
    "while count > 0:\n",
    "    print(count)\n",
    "    count -= 1\n"
   ]
  },
  {
   "cell_type": "code",
   "execution_count": 4,
   "id": "52b11dc7",
   "metadata": {},
   "outputs": [
    {
     "name": "stdout",
     "output_type": "stream",
     "text": [
      "1\n",
      "2\n",
      "3\n",
      "4\n",
      "5\n"
     ]
    }
   ],
   "source": [
    "# Built-in Functions\n",
    "#Print-Already Demonstrated\n",
    "#len-Already Demonstrated\n",
    "#range\n",
    "# Generate a sequence of numbers\n",
    "numbers = range(1, 6)\n",
    "for num in numbers:\n",
    "    print(num)\n",
    "#We store the sequence in a variable numbers\n",
    "#Then use a for loop to iterate through each number in the sequence. We print each number to the console.\n"
   ]
  },
  {
   "cell_type": "code",
   "execution_count": 5,
   "id": "cd19b92b",
   "metadata": {},
   "outputs": [
    {
     "name": "stdout",
     "output_type": "stream",
     "text": [
      "What is your name? Anvesha\n",
      "Hello, Anvesha!\n"
     ]
    }
   ],
   "source": [
    "# Get user input from the console\n",
    "name = input(\"What is your name? \")\n",
    "print(\"Hello, \" + name + \"!\")\n"
   ]
  },
  {
   "cell_type": "code",
   "execution_count": 6,
   "id": "e9f036c8",
   "metadata": {},
   "outputs": [
    {
     "name": "stdout",
     "output_type": "stream",
     "text": [
      "{'The Shawshank Redemption': 9.3, 'The Godfather': 9.2, 'The Dark Knight': 9.0}\n"
     ]
    }
   ],
   "source": [
    "#A dictionary is a built-in data structure in Python that stores a collection of key-value pairs.\n",
    "# Create a dictionary of movie ratings\n",
    "ratings = {\"The Shawshank Redemption\": 9.3, \"The Godfather\": 9.2, \"The Dark Knight\": 9.0}\n",
    "print(ratings)\n"
   ]
  },
  {
   "cell_type": "code",
   "execution_count": 7,
   "id": "e08db048",
   "metadata": {},
   "outputs": [
    {
     "name": "stdout",
     "output_type": "stream",
     "text": [
      "9.2\n"
     ]
    }
   ],
   "source": [
    "# Access a value in a dictionary\n",
    "ratings = {\"The Shawshank Redemption\": 9.3, \"The Godfather\": 9.2, \"The Dark Knight\": 9.0}\n",
    "godfather_rating = ratings[\"The Godfather\"]\n",
    "print(godfather_rating)\n"
   ]
  },
  {
   "cell_type": "code",
   "execution_count": 8,
   "id": "c7aa3b86",
   "metadata": {},
   "outputs": [
    {
     "name": "stdout",
     "output_type": "stream",
     "text": [
      "{'The Shawshank Redemption': 9.3, 'The Godfather': 9.2, 'The Dark Knight': 9.0, 'The Godfather: Part II': 9.0}\n",
      "{'The Shawshank Redemption': 9.3, 'The Godfather': 9.2, 'The Dark Knight': 9.5, 'The Godfather: Part II': 9.0}\n"
     ]
    }
   ],
   "source": [
    "# Add a key-value pair to a dictionary\n",
    "ratings = {\"The Shawshank Redemption\": 9.3, \"The Godfather\": 9.2, \"The Dark Knight\": 9.0}\n",
    "ratings[\"The Godfather: Part II\"] = 9.0\n",
    "print(ratings)\n",
    "\n",
    "# Update a value in a dictionary\n",
    "ratings[\"The Dark Knight\"] = 9.5\n",
    "print(ratings)\n"
   ]
  },
  {
   "cell_type": "code",
   "execution_count": 9,
   "id": "eb6bbfff",
   "metadata": {},
   "outputs": [
    {
     "name": "stdout",
     "output_type": "stream",
     "text": [
      "{'The Shawshank Redemption': 9.3, 'The Godfather': 9.2}\n"
     ]
    }
   ],
   "source": [
    "# Remove a key-value pair from a dictionary\n",
    "ratings = {\"The Shawshank Redemption\": 9.3, \"The Godfather\": 9.2, \"The Dark Knight\": 9.0}\n",
    "del ratings[\"The Dark Knight\"]\n",
    "print(ratings)\n"
   ]
  },
  {
   "cell_type": "code",
   "execution_count": 3,
   "id": "ba17c05d",
   "metadata": {},
   "outputs": [
    {
     "name": "stdout",
     "output_type": "stream",
     "text": [
      "8\n"
     ]
    }
   ],
   "source": [
    "#FUNCTIONS\n",
    "#A function is a block of code that performs a specific task and can be called or invoked from anywhere in the program.\n",
    "def find_largest(numbers):\n",
    "    largest = numbers[0]\n",
    "    for num in numbers:\n",
    "        if num > largest:\n",
    "            largest = num\n",
    "    return largest\n",
    "\n",
    "numbers = [3, 7, 2, 8, 1]\n",
    "result = find_largest(numbers)\n",
    "print(result)\n",
    "\n"
   ]
  },
  {
   "cell_type": "code",
   "execution_count": 28,
   "id": "8a91e226",
   "metadata": {},
   "outputs": [
    {
     "name": "stdout",
     "output_type": "stream",
     "text": [
      "otamoT\n"
     ]
    }
   ],
   "source": [
    "#FunctionToFindReverseOfAString\n",
    "def reverse_string(string):\n",
    "    return string[::-1]\n",
    "string = \"Tomato\"\n",
    "result = reverse_string(string)\n",
    "print(result)\n",
    "\n",
    "#The syntax for slicing is [start:end:step]. In this case, [::-1] \n",
    "#specifies a slice that starts from the end of the string and goes backwards by 1 step, effectively reversing the string.\n"
   ]
  },
  {
   "cell_type": "code",
   "execution_count": 6,
   "id": "eeb0f705",
   "metadata": {},
   "outputs": [
    {
     "name": "stdout",
     "output_type": "stream",
     "text": [
      "99\n"
     ]
    }
   ],
   "source": [
    "#Write a function to find the sum of all elements in a list.\n",
    "def sum_list(lst):\n",
    "    return sum(lst)\n",
    "    \n",
    "# Example usage\n",
    "my_list = [1, 2, 3, 4, 89]\n",
    "print(sum_list(my_list))  \n"
   ]
  },
  {
   "cell_type": "code",
   "execution_count": 7,
   "id": "68a6a8ab",
   "metadata": {},
   "outputs": [
    {
     "name": "stdout",
     "output_type": "stream",
     "text": [
      "[1, 2, 3, 4, 5]\n"
     ]
    }
   ],
   "source": [
    "#Write a function to remove all duplicates from a list.\n",
    "def remove_duplicates(lst):\n",
    "    return list(set(lst))\n",
    "    \n",
    "# Example usage\n",
    "my_list = [1, 2, 3, 1, 4, 2, 5]\n",
    "print(remove_duplicates(my_list)) \n",
    "\n",
    "# removes any duplicates in the list by first converting it to a set \n",
    "#(which automatically removes duplicates since sets only contain unique values) and then converting it back to a list."
   ]
  },
  {
   "cell_type": "code",
   "execution_count": 8,
   "id": "964c004e",
   "metadata": {},
   "outputs": [
    {
     "name": "stdout",
     "output_type": "stream",
     "text": [
      "20\n"
     ]
    }
   ],
   "source": [
    "#Write a function to find the maximum value in a dictionary.\n",
    "def max_value(dict):\n",
    "    return max(dict.values())\n",
    "    \n",
    "# Example usage\n",
    "my_dict = {'a': 10, 'b': 5, 'c': 20}\n",
    "print(max_value(my_dict))  \n"
   ]
  },
  {
   "cell_type": "code",
   "execution_count": 9,
   "id": "e016ea75",
   "metadata": {},
   "outputs": [
    {
     "name": "stdout",
     "output_type": "stream",
     "text": [
      "11011100101\n"
     ]
    }
   ],
   "source": [
    "#Write a function to convert a list of integers to a binary string.\n",
    "def int_to_binary_string(lst):\n",
    "    return ''.join([bin(num)[2:] for num in lst])\n",
    "    \n",
    "# Example usage\n",
    "my_list = [1, 2, 3, 4, 5]\n",
    "print(int_to_binary_string(my_list)) \n",
    "\n",
    "\n",
    "#For each integer, it first calls the built-in bin function, \n",
    "#which returns the binary representation of the integer as a string prefixed with '0b'.\n",
    "#The [2:] slice notation is used to remove the '0b' prefix from the binary string, leaving only the binary digits. \n",
    "#The resulting binary strings are then concatenated together using the join method called on an empty string ('').\n",
    "#The resulting binary string is then returned.\n"
   ]
  },
  {
   "cell_type": "code",
   "execution_count": 10,
   "id": "5684e5e4",
   "metadata": {},
   "outputs": [
    {
     "name": "stdout",
     "output_type": "stream",
     "text": [
      "2\n"
     ]
    }
   ],
   "source": [
    "#Write a function to count the number of occurrences of a character in a string.\n",
    "def count_char(string, char):\n",
    "    return string.count(char)\n",
    "    \n",
    "# Example usage\n",
    "my_string = \"Topioca\"\n",
    "my_char = \"o\"\n",
    "print(count_char(my_string, my_char)) \n"
   ]
  },
  {
   "cell_type": "code",
   "execution_count": 11,
   "id": "31c969f7",
   "metadata": {},
   "outputs": [
    {
     "name": "stdout",
     "output_type": "stream",
     "text": [
      "['date', 'apple', 'banana', 'cherry']\n"
     ]
    }
   ],
   "source": [
    "#Write a function to sort a list of strings by their length.\n",
    "def sort_by_length(lst):\n",
    "    return sorted(lst, key=len)\n",
    "    \n",
    "# Example usage\n",
    "my_list = [\"apple\", \"banana\", \"cherry\", \"date\"]\n",
    "print(sort_by_length(my_list)) \n"
   ]
  },
  {
   "cell_type": "code",
   "execution_count": 21,
   "id": "9b4a9fcf",
   "metadata": {},
   "outputs": [
    {
     "name": "stdout",
     "output_type": "stream",
     "text": [
      "{1, 2, 3, 4, 5}\n"
     ]
    }
   ],
   "source": [
    "#Sets - In Python, a set is a collection of unique elements that are unordered and unindexed. \n",
    "#Elements in a set are not stored in a particular order, and elements with the same value are not duplicated.\n",
    "#Creating a set\n",
    "my_set = {1, 2, 3, 4, 5}\n",
    "print(my_set)\n",
    "\n"
   ]
  },
  {
   "cell_type": "code",
   "execution_count": 23,
   "id": "d7d32aca",
   "metadata": {},
   "outputs": [
    {
     "name": "stdout",
     "output_type": "stream",
     "text": [
      "{1, 2, 3, 4}\n"
     ]
    }
   ],
   "source": [
    "#Adding elements to a set\n",
    "my_set = {1, 2, 3}\n",
    "my_set.add(4)\n",
    "print(my_set) "
   ]
  },
  {
   "cell_type": "code",
   "execution_count": 22,
   "id": "4ceee8a5",
   "metadata": {},
   "outputs": [
    {
     "name": "stdout",
     "output_type": "stream",
     "text": [
      "{1, 3}\n"
     ]
    }
   ],
   "source": [
    "#Removing elements from a set\n",
    "my_set = {1, 2, 3}\n",
    "my_set.remove(2)\n",
    "print(my_set) \n"
   ]
  },
  {
   "cell_type": "code",
   "execution_count": 24,
   "id": "a162ac40",
   "metadata": {},
   "outputs": [
    {
     "name": "stdout",
     "output_type": "stream",
     "text": [
      "True\n",
      "False\n"
     ]
    }
   ],
   "source": [
    "#Checking if an element is in a set:\n",
    "my_set = {1, 2, 3}\n",
    "print(2 in my_set) # Output: True\n",
    "print(4 in my_set) # Output: False\n"
   ]
  },
  {
   "cell_type": "code",
   "execution_count": 25,
   "id": "c6423761",
   "metadata": {},
   "outputs": [
    {
     "name": "stdout",
     "output_type": "stream",
     "text": [
      "{1, 2, 3, 4, 5}\n"
     ]
    }
   ],
   "source": [
    "#Set union:\n",
    "set1 = {1, 2, 3}\n",
    "set2 = {3, 4, 5}\n",
    "union_set = set1.union(set2)\n",
    "print(union_set)\n"
   ]
  },
  {
   "cell_type": "code",
   "execution_count": 26,
   "id": "378293a5",
   "metadata": {},
   "outputs": [
    {
     "name": "stdout",
     "output_type": "stream",
     "text": [
      "{3}\n"
     ]
    }
   ],
   "source": [
    "#Set intersection:\n",
    "set1 = {1, 2, 3}\n",
    "set2 = {3, 4, 5}\n",
    "intersection_set = set1.intersection(set2)\n",
    "print(intersection_set)\n"
   ]
  },
  {
   "cell_type": "code",
   "execution_count": 27,
   "id": "2e483bb4",
   "metadata": {},
   "outputs": [
    {
     "name": "stdout",
     "output_type": "stream",
     "text": [
      "{1, 2}\n"
     ]
    }
   ],
   "source": [
    "set1 = {1, 2, 3}\n",
    "set2 = {3, 4, 5}\n",
    "difference_set = set1.difference(set2)\n",
    "print(difference_set) \n"
   ]
  },
  {
   "cell_type": "code",
   "execution_count": 12,
   "id": "2946c269",
   "metadata": {},
   "outputs": [
    {
     "name": "stdout",
     "output_type": "stream",
     "text": [
      "{4, 5}\n"
     ]
    }
   ],
   "source": [
    "#SETS & FUNCTIONS\n",
    "def common_elements(set1, set2):\n",
    "    return set1.intersection(set2)\n",
    "\n",
    "set1 = {1, 2, 3, 4, 5}\n",
    "set2 = {4, 5, 6, 7, 8}\n",
    "common_set = common_elements(set1, set2)\n",
    "print(common_set)\n"
   ]
  },
  {
   "cell_type": "code",
   "execution_count": 13,
   "id": "29abf7d2",
   "metadata": {},
   "outputs": [
    {
     "name": "stdout",
     "output_type": "stream",
     "text": [
      "{1, 2, 3, 6, 7, 8}\n"
     ]
    }
   ],
   "source": [
    "def unique_elements(set1, set2):\n",
    "    return set1.symmetric_difference(set2)\n",
    "\n",
    "set1 = {1, 2, 3, 4, 5}\n",
    "set2 = {4, 5, 6, 7, 8}\n",
    "unique_set = unique_elements(set1, set2)\n",
    "print(unique_set)\n"
   ]
  },
  {
   "cell_type": "code",
   "execution_count": 14,
   "id": "b23fd82f",
   "metadata": {},
   "outputs": [
    {
     "name": "stdout",
     "output_type": "stream",
     "text": [
      "True\n",
      "False\n"
     ]
    }
   ],
   "source": [
    "#Write a Python function that takes two sets and returns True if one set is a subset of the other, otherwise returns False.\n",
    "def is_subset(set1, set2):\n",
    "    return set1.issubset(set2) or set2.issubset(set1)\n",
    "\n",
    "set1 = {1, 2, 3}\n",
    "set2 = {1, 2, 3, 4, 5}\n",
    "print(is_subset(set1, set2))\n",
    "\n",
    "set3 = {4, 5, 6}\n",
    "print(is_subset(set1, set3))\n"
   ]
  },
  {
   "cell_type": "code",
   "execution_count": 19,
   "id": "2b1637a3",
   "metadata": {},
   "outputs": [
    {
     "name": "stdout",
     "output_type": "stream",
     "text": [
      "{2, 3, 4}\n"
     ]
    }
   ],
   "source": [
    "#Write a Python function that takes a set and returns a new set with the first and last element removed.\n",
    "def remove_first_and_last(my_set):\n",
    "    my_list = list(my_set)\n",
    "    my_list.pop(0)\n",
    "    my_list.pop(-1)\n",
    "    return set(my_list)\n",
    "\n",
    "my_set = {1, 2, 3, 4, 5}\n",
    "new_set = remove_first_and_last(my_set)\n",
    "print(new_set) # Output: {2, 3, 4}\n",
    "\n",
    "\n"
   ]
  },
  {
   "cell_type": "code",
   "execution_count": 9,
   "id": "78b7cbc6",
   "metadata": {},
   "outputs": [
    {
     "data": {
      "text/plain": [
       "False"
      ]
     },
     "execution_count": 9,
     "metadata": {},
     "output_type": "execute_result"
    }
   ],
   "source": [
    "#KEYWORDS\n",
    "#Keywords in Python are reserved words that cannot be used as variable names, function names, or any other identifiers. \n",
    "#Python has 35 keywords as of version 3.10.\n",
    "#Keywords are case-sensitive, so if, If, and IF are different keywords.\n",
    "\n",
    "#We can check if a word is a keyword in Python by using the keyword module.\n",
    "\n",
    "import keyword\n",
    "keyword.iskeyword('if')  # True\n",
    "keyword.iskeyword('hello')  # False\n",
    "\n"
   ]
  },
  {
   "cell_type": "code",
   "execution_count": 10,
   "id": "a856b008",
   "metadata": {},
   "outputs": [
    {
     "name": "stdout",
     "output_type": "stream",
     "text": [
      "1\n",
      "2\n",
      "3\n",
      "4\n",
      "5\n"
     ]
    }
   ],
   "source": [
    "#False, None, True, and, as, assert, async, await, break, class, continue, def, del, elif, else,\n",
    "#except, finally, for, from, global, if, import, in, is, lambda, nonlocal, not, or, pass, raise, return, try, while, with, yield\n",
    "#for lop\n",
    "for i in range(1, 6):\n",
    "    print(i)\n"
   ]
  },
  {
   "cell_type": "code",
   "execution_count": 11,
   "id": "909d995a",
   "metadata": {},
   "outputs": [
    {
     "name": "stdout",
     "output_type": "stream",
     "text": [
      "x is greater than 5\n"
     ]
    }
   ],
   "source": [
    "\n",
    "#if statement\n",
    "x = 10\n",
    "if x > 5:\n",
    "    print(\"x is greater than 5\")"
   ]
  },
  {
   "cell_type": "code",
   "execution_count": 30,
   "id": "dcff198f",
   "metadata": {},
   "outputs": [
    {
     "name": "stdout",
     "output_type": "stream",
     "text": [
      "3\n",
      "4\n",
      "5\n"
     ]
    }
   ],
   "source": [
    "#WHILE\n",
    "i = 3\n",
    "while i <= 5:\n",
    "    print(i)\n",
    "    i += 1\n"
   ]
  },
  {
   "cell_type": "code",
   "execution_count": 13,
   "id": "b7b92a30",
   "metadata": {},
   "outputs": [],
   "source": [
    "#class definition\n",
    "class Person:\n",
    "    def __init__(self, name, age):\n",
    "        self.name = name\n",
    "        self.age = age\n",
    "    def say_hello(self):\n",
    "        print(\"Hello, my name is\", self.name)\n"
   ]
  },
  {
   "cell_type": "code",
   "execution_count": 36,
   "id": "0b1902cc",
   "metadata": {},
   "outputs": [
    {
     "name": "stdout",
     "output_type": "stream",
     "text": [
      "Enter a number: 4\n",
      "The result is: 2.5\n",
      "Done\n"
     ]
    }
   ],
   "source": [
    "#try-except block:\n",
    "try:\n",
    "    x = int(input(\"Enter a number: \"))\n",
    "    y = 10 / x\n",
    "except ZeroDivisionError:\n",
    "    print(\"Cannot divide by zero\")\n",
    "    \n",
    "except ValueError:\n",
    "    print(\"Invalid input\")\n",
    "else:\n",
    "    print(\"The result is:\", y)\n",
    "#finally: Used in a try-except block to specify code that should be executed no matter what.\n",
    "finally:\n",
    "    print(\"Done\")\n",
    "\n"
   ]
  },
  {
   "cell_type": "code",
   "execution_count": 32,
   "id": "f44c6edd",
   "metadata": {},
   "outputs": [
    {
     "name": "stdout",
     "output_type": "stream",
     "text": [
      "0\n",
      "1\n",
      "2\n",
      "3\n",
      "4\n"
     ]
    }
   ],
   "source": [
    "# assert: Used for debugging purposes to check if a condition is true. \n",
    "#If the condition is false, an AssertionError is raised.\n",
    "#assert a > 0, \"a should be greater than 0\"\n",
    "\n",
    "#break: Used to break out of a loop.\n",
    "for i in range(10):\n",
    "    if i == 5:\n",
    "        break\n",
    "    print(i)\n",
    "\n"
   ]
  },
  {
   "cell_type": "code",
   "execution_count": null,
   "id": "c909fb58",
   "metadata": {},
   "outputs": [],
   "source": []
  },
  {
   "cell_type": "code",
   "execution_count": 17,
   "id": "0ade0f89",
   "metadata": {},
   "outputs": [
    {
     "name": "stdout",
     "output_type": "stream",
     "text": [
      "Hello Avinash\n",
      "Hi Interns\n"
     ]
    }
   ],
   "source": [
    "#Special parameters are additional parameters that can be added to a function definition to modify the behavior of the function.\n",
    "#There are three types of special parameters in Python:\n",
    "\n",
    "#Default parameters:\n",
    "#Default parameters are parameters that have a default value specified in the function definition. \n",
    "#If the parameter is not passed by the caller, the default value is used. \n",
    "def greet(name, greeting='Hello'):\n",
    "    print(greeting, name)\n",
    "\n",
    "greet('Avinash')  # Output: Hello Alice\n",
    "greet('Anvesha', 'Hi')  # Output: Hi Bob\n",
    "\n",
    "\n"
   ]
  },
  {
   "cell_type": "code",
   "execution_count": 19,
   "id": "04247023",
   "metadata": {},
   "outputs": [
    {
     "name": "stdout",
     "output_type": "stream",
     "text": [
      "24\n",
      "30\n"
     ]
    }
   ],
   "source": [
    "#Variable-length parameters:\n",
    "#Variable-length parameters allow a function to accept an arbitrary number of arguments. \n",
    "#There are two types of variable-length parameters in Python:\n",
    "\n",
    "# *args: This parameter allows a function to accept a variable number of positional arguments.\n",
    "\n",
    "def multiply(*args):\n",
    "    result = 1\n",
    "    for arg in args:\n",
    "        result *= arg\n",
    "    return result\n",
    "\n",
    "print(multiply(2, 3, 4))  # Output: 24\n",
    "print(multiply(5, 6))  # Output: 30\n"
   ]
  },
  {
   "cell_type": "code",
   "execution_count": 20,
   "id": "697b1ad3",
   "metadata": {},
   "outputs": [
    {
     "name": "stdout",
     "output_type": "stream",
     "text": [
      "name Alice\n",
      "age 30\n",
      "city New York\n"
     ]
    }
   ],
   "source": [
    "#Variable-length parameters:\n",
    "#**kwargs: This parameter allows a function to accept a variable number of keyword arguments.\n",
    "\n",
    "def print_info(**kwargs):\n",
    "    for key, value in kwargs.items():\n",
    "        print(key, value)\n",
    "\n",
    "print_info(name='Alice', age=30, city='New York')  # Output: name Alice, age 30, city New York\n"
   ]
  },
  {
   "cell_type": "code",
   "execution_count": 21,
   "id": "ac2c0da7",
   "metadata": {},
   "outputs": [
    {
     "name": "stdout",
     "output_type": "stream",
     "text": [
      "Aliya\n",
      "30\n",
      "New York\n"
     ]
    }
   ],
   "source": [
    "#Variable-length arguments with fixed arguments:\n",
    "#This special parameter is a combination of fixed and variable-length arguments. \n",
    "#It allows a function to accept a fixed number of arguments, followed by a variable number of arguments.\n",
    "\n",
    "def print_info(name, *args):\n",
    "    print(name)\n",
    "    for arg in args:\n",
    "        print(arg)\n",
    "\n",
    "print_info('Aliya', 30, 'New York') \n",
    "\n",
    "#These special parameters in Python functions can be very useful in different situations and \n",
    "#can help to make your code more flexible and reusable.\n"
   ]
  },
  {
   "cell_type": "code",
   "execution_count": 22,
   "id": "6d289e7e",
   "metadata": {},
   "outputs": [
    {
     "name": "stdout",
     "output_type": "stream",
     "text": [
      "[{'name': 'Bob', 'age': 18}, {'name': 'Alice', 'age': 20}, {'name': 'Charlie', 'age': 22}]\n"
     ]
    }
   ],
   "source": [
    "#Key-parameters\n",
    "#The key parameter is used to specify a function of one argument to extract a comparison key from each element in an iterable. \n",
    "#This is useful when you want to sort or group elements based on a specific attribute.\n",
    "students = [    {'name': 'Alice', 'age': 20},    {'name': 'Bob', 'age': 18},    {'name': 'Charlie', 'age': 22},]\n",
    "\n",
    "sorted_students = sorted(students, key=lambda x: x['age'])\n",
    "print(sorted_students)\n"
   ]
  },
  {
   "cell_type": "code",
   "execution_count": 34,
   "id": "933a48c3",
   "metadata": {},
   "outputs": [
    {
     "name": "stdout",
     "output_type": "stream",
     "text": [
      "Aliya | Kareena | Kat\n"
     ]
    }
   ],
   "source": [
    "#sep and end parameters:\n",
    "#The sep and end parameters are used in the print() function to specify the separator and ending characters respectively.\n",
    "\n",
    "print('Aliya', 'Kareena', 'Kat', sep=' | ', end='\\n')\n"
   ]
  },
  {
   "cell_type": "code",
   "execution_count": null,
   "id": "06d4c554",
   "metadata": {},
   "outputs": [],
   "source": []
  },
  {
   "cell_type": "code",
   "execution_count": 28,
   "id": "517327b9",
   "metadata": {},
   "outputs": [],
   "source": []
  },
  {
   "cell_type": "code",
   "execution_count": null,
   "id": "adb7202a",
   "metadata": {},
   "outputs": [],
   "source": []
  }
 ],
 "metadata": {
  "kernelspec": {
   "display_name": "Python 3",
   "language": "python",
   "name": "python3"
  },
  "language_info": {
   "codemirror_mode": {
    "name": "ipython",
    "version": 3
   },
   "file_extension": ".py",
   "mimetype": "text/x-python",
   "name": "python",
   "nbconvert_exporter": "python",
   "pygments_lexer": "ipython3",
   "version": "3.8.8"
  }
 },
 "nbformat": 4,
 "nbformat_minor": 5
}
